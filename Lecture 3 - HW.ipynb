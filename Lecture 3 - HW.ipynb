{
 "cells": [
  {
   "cell_type": "code",
   "execution_count": null,
   "id": "f4734e09",
   "metadata": {},
   "outputs": [],
   "source": [
    "pip install MRJob"
   ]
  },
  {
   "cell_type": "code",
   "execution_count": null,
   "id": "2285dd16",
   "metadata": {},
   "outputs": [],
   "source": [
    "#Import the MRJob class from the mrjob.job module.\n",
    "from mrjob.job import MRJob\n",
    "#Define a new class called InitialLetterCount_word that extends MRJob.\n",
    "class InitialLetterCount_word(MRJob):\n",
    "#Define the mapper_init method. This method is called once at the start of each mapper task. It initializes an empty dictionary called initial_counts to store the counts of initial letters.\n",
    "    def mapper_init(self):\n",
    "        self.initial_counts = {}\n",
    "# Define the mapper method. This method is called for each key-value pair in the input. It splits the line into words and iterates over each word. It extracts the initial letter of the word, converts it to lowercase, and updates the count for that initial letter in the initial_counts dictionary.\n",
    "    def mapper(self, _, line):\n",
    "        # Split the line into words\n",
    "        words = line.split()\n",
    "        \n",
    "        # Emit each initial letter of a word as the key with a count of 1\n",
    "        for word in words:\n",
    "            # Extract the initial letter of the word\n",
    "            initial_letter = word[0].lower()\n",
    "            \n",
    "            # Update the count for the initial letter in the dictionary\n",
    "            if initial_letter in self.initial_counts:\n",
    "                self.initial_counts[initial_letter] += 1\n",
    "            else:\n",
    "                self.initial_counts[initial_letter] = 1\n",
    "#Define the mapper_final method. This method is called after all the key-value pairs have been processed by the mapper. It yields each initial letter and its corresponding count from the initial_counts dictionary.\n",
    "    def mapper_final(self):\n",
    "        # Emit each initial letter with its corresponding count\n",
    "        for initial_letter, count in self.initial_counts.items():\n",
    "            yield (initial_letter, count)\n",
    "#Define the reducer method. This method is called for each unique key emitted by the mapper. It receives the key and an iterator of values. It calculates the total count for the key by summing up the values and yields the key and its total count.\n",
    "    def reducer(self, key, values):\n",
    "        # Calculate the total count for each initial letter\n",
    "        total_count = sum(values)\n",
    "        \n",
    "        # Emit the initial letter and its total count\n",
    "        yield (key, total_count)\n",
    "# The conditional statement checks if the script is run directly (not imported as a module). If it is, it runs the MapReduce job by calling InitialLetterCount_word.run()\n",
    "if __name__ == '__main__':\n",
    "    InitialLetterCount_word.run()\n"
   ]
  },
  {
   "cell_type": "code",
   "execution_count": null,
   "id": "37f05ee9",
   "metadata": {},
   "outputs": [],
   "source": []
  },
  {
   "cell_type": "code",
   "execution_count": null,
   "id": "fa3c3e26",
   "metadata": {},
   "outputs": [],
   "source": []
  }
 ],
 "metadata": {
  "kernelspec": {
   "display_name": "Python 3 (ipykernel)",
   "language": "python",
   "name": "python3"
  },
  "language_info": {
   "codemirror_mode": {
    "name": "ipython",
    "version": 3
   },
   "file_extension": ".py",
   "mimetype": "text/x-python",
   "name": "python",
   "nbconvert_exporter": "python",
   "pygments_lexer": "ipython3",
   "version": "3.11.3"
  }
 },
 "nbformat": 4,
 "nbformat_minor": 5
}
